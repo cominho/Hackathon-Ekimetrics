{
 "cells": [
  {
   "cell_type": "markdown",
   "id": "90d81086",
   "metadata": {},
   "source": [
    "# Hackathon Ekimetrics 2023"
   ]
  },
  {
   "cell_type": "markdown",
   "id": "08b41714",
   "metadata": {},
   "source": [
    "L'objectif de ce Hackathon est d'implémenter un algorithme permettant à une entreprise d'automatiser son processus de recrutement, en s'assurant que l'algorithme de sélection ne reproduise aucun biais discriminatoire."
   ]
  },
  {
   "cell_type": "markdown",
   "id": "b4351f18",
   "metadata": {},
   "source": [
    "### Biais a priori\n",
    "\n",
    "Lors de la mise en œuvre d'un système d'IA, l'équité et les préjugés doivent être un élément important lors de la conception, en particulier lorsqu'il s'agit d'informations sensibles, et/ou d'informations personnelles identifiables (PII), et/ou d'informations personnelles sur la santé (PHI). En effet, non seulement ces informations sont soumises à la loi (par exemple, le GDPR en Europe), mais elles sont également soumises à un défi en termes d'image de marque.\n",
    "L'exemple d'aujourd'hui vise à attribuer un risque aux données de recrutement.\n",
    "Avant de mettre en œuvre un système d'IA pour prédire la probabilité d'embauche d'un candidat, les ingénieurs en IA et les parties prenantes de l'entreprise devraient :\n",
    "\n",
    "- Se situer et identifier les sources potentielles de biais\n",
    "- Définir une ou plusieurs mesures qui quantifieront les biais du système d'IA."
   ]
  },
  {
   "cell_type": "markdown",
   "id": "fe72cd1b",
   "metadata": {},
   "source": [
    "https://www.hirevue.com/blog/hiring/what-is-adverse-impact-and-why-measuring-it-matters"
   ]
  },
  {
   "cell_type": "markdown",
   "id": "487a34ea",
   "metadata": {},
   "source": [
    "### Dataset\n",
    "\n",
    "L'enquête annuelle de StackOverflow auprès des développeurs (plus de 70 000 réponses provenant de plus de 180 pays) examine tous les aspects de l'expérience des développeurs, de l'apprentissage du code aux technologies préférées, en passant par le contrôle des versions et l'expérience professionnelle.\n",
    "\n",
    "Nous disposons des données suivantes : \n",
    "\n",
    "\n",
    "- Age: age of the applicant, >35 years old or <35 years old (categorical)\n",
    "\n",
    "- EdLevel: education level of the applicant (Undergraduate, Master, PhD...) (categorical)\n",
    "\n",
    "- Gender: gender of the applicant, (Man, Woman, or NonBinary) (categorical)\n",
    "\n",
    "- MainBranch: whether the applicant is a profesional developer (categorical)\n",
    "\n",
    "- YearsCode: how long the applicant has been coding (integer)\n",
    "\n",
    "- YearsCodePro: how long the applicant has been coding in a professional context, (integer)\n",
    "\n",
    "- PreviousSalary: the applicant's previous job salary (float)\n",
    "\n",
    "- ComputerSkills: number of computer skills known by the applicant (integer)\n",
    "\n",
    "- Employed: target variable, whether the applicant has been hired (categorical)"
   ]
  },
  {
   "cell_type": "code",
   "execution_count": null,
   "id": "f9388eb6",
   "metadata": {},
   "outputs": [],
   "source": [
    "pip install dalex"
   ]
  },
  {
   "cell_type": "code",
   "execution_count": null,
   "id": "4c750fa5",
   "metadata": {},
   "outputs": [],
   "source": [
    "#Importation des librairies nécessaires \n",
    "\n",
    "import pandas as pd \n",
    "import numpy as np\n",
    "import seaborn as sns\n",
    "import matplotlib.pyplot as plt\n",
    "from sklearn.model_selection import train_test_split\n",
    "from sklearn.ensemble import RandomForestClassifier\n",
    "from sklearn.tree import DecisionTreeClassifier\n",
    "from sklearn.linear_model import LogisticRegression\n",
    "from sklearn.preprocessing import LabelEncoder\n",
    "from sklearn.preprocessing import OneHotEncoder\n",
    "from sklearn.metrics import accuracy_score, precision_score, recall_score, f1_score, roc_auc_score, classification_report, confusion_matrix\n",
    "import dalex as dx\n",
    "from dalex.fairness import resample, reweight, roc_pivot\n",
    "from copy import copy\n",
    "from sklearn.compose import make_column_transformer\n",
    "from sklearn.compose import make_column_selector\n",
    "from sklearn.pipeline import Pipeline \n",
    "from sklearn.compose import ColumnTransformer\n",
    "import plotly.graph_objects as go\n",
    "from plotly.subplots import make_subplots\n",
    "import plotly.express as px\n",
    "import plotly.figure_factory as ff"
   ]
  },
  {
   "cell_type": "markdown",
   "id": "245ddd86",
   "metadata": {},
   "source": [
    "# Exploratory Data Analysis"
   ]
  },
  {
   "cell_type": "code",
   "execution_count": null,
   "id": "74460905",
   "metadata": {
    "scrolled": true
   },
   "outputs": [],
   "source": [
    "#Chargement du dataset \n",
    "#df = pd.read_csv('/Users/come/Desktop/ENSAE/Hackathon-Ekimetrics/stackoverflow_full.csv', index_col=0)\n",
    "df = pd.read_csv('https://raw.githubusercontent.com/cominho/Hackathon-Ekimetrics/main/stackoverflow_full.csv?token=GHSAT0AAAAAACKRKK6JJCU5M6DPABA4YRNYZK6GFHQ')\n",
    "df"
   ]
  },
  {
   "cell_type": "code",
   "execution_count": null,
   "id": "33290749",
   "metadata": {},
   "outputs": [],
   "source": [
    "#Nombre d'observations\n",
    "nb_obs = df.shape[0]\n",
    "nb_obs"
   ]
  },
  {
   "cell_type": "code",
   "execution_count": null,
   "id": "0436b61e",
   "metadata": {},
   "outputs": [],
   "source": [
    "#Existence de valeurs manquantes \n",
    "miss_val = df.isna().any().any()\n",
    "miss_val"
   ]
  },
  {
   "cell_type": "code",
   "execution_count": null,
   "id": "95cc72dd",
   "metadata": {},
   "outputs": [],
   "source": [
    "#Nombre de valeurs manquantes par colonne \n",
    "miss_val_col = df.isna().sum()\n",
    "miss_val_col"
   ]
  },
  {
   "cell_type": "markdown",
   "id": "0ae5fb70",
   "metadata": {},
   "source": [
    "## Statistiques descriptives"
   ]
  },
  {
   "cell_type": "code",
   "execution_count": null,
   "id": "908bc1bc",
   "metadata": {},
   "outputs": [],
   "source": [
    "#Variables à inclure dans les statistiques descriptives\n",
    "variables_to_describe = ['Age', 'PreviousSalary', 'EdLevel', 'Employment', 'Gender', 'ComputerSkills']\n",
    "\n",
    "#Création d'une grille de sous-graphiques\n",
    "fig, axes = plt.subplots(nrows=2, ncols=3, figsize=(15, 8))\n",
    "fig.suptitle('Statistiques descriptives')\n",
    "\n",
    "for i, variable in enumerate(variables_to_describe):\n",
    "    row, col = i // 3, i % 3\n",
    "    sns.histplot(data=df, x=variable, ax=axes[row, col], kde=False)\n",
    "    axes[row, col].set_title(f'{variable} Distribution')\n",
    "\n",
    "plt.tight_layout()\n",
    "plt.subplots_adjust(top=0.9)\n",
    "\n",
    "plt.show()"
   ]
  },
  {
   "cell_type": "code",
   "execution_count": null,
   "id": "162ebae8",
   "metadata": {},
   "outputs": [],
   "source": [
    "import plotly.graph_objects as go\n",
    "from plotly.subplots import make_subplots\n",
    "\n",
    "fig = make_subplots(rows=1, cols=1)\n",
    "\n",
    "colors = px.colors.sequential.Agsunset\n",
    "\n",
    "for i, gender in enumerate(df['Gender'].unique()):\n",
    "    data = df[df['Gender'] == gender]\n",
    "    fig.add_trace(go.Box(x=data['Gender'], y=data['PreviousSalary'], name=gender, marker=dict(color=colors[i])), row=1, col=1)\n",
    "\n",
    "fig.update_layout(title='Distribution des salaires par genre')\n",
    "fig.show()"
   ]
  },
  {
   "cell_type": "code",
   "execution_count": null,
   "id": "84ccc391",
   "metadata": {},
   "outputs": [],
   "source": [
    "colors = px.colors.sequential.Plasma  \n",
    "\n",
    "\n",
    "fig = make_subplots(rows=1, cols=1)\n",
    "\n",
    "unique_ages = df['Age'].unique()\n",
    "unique_ages.sort() \n",
    "\n",
    "for i, age in enumerate(unique_ages):\n",
    "    data = df[df['Age'] == age]\n",
    "   \n",
    "    color = colors[i % len(colors)]\n",
    "    \n",
    "    fig.add_trace(go.Box(\n",
    "        x=data['Age'], \n",
    "        y=data['PreviousSalary'], \n",
    "        name=str(age), \n",
    "        marker=dict(color=color)\n",
    "    ), row=1, col=1)\n",
    "\n",
    "\n",
    "fig.update_layout(title='Distribution des salaires en fonction de l âge')\n",
    "\n",
    "fig.show()"
   ]
  },
  {
   "cell_type": "code",
   "execution_count": null,
   "id": "8271f666",
   "metadata": {},
   "outputs": [],
   "source": [
    "import plotly.graph_objects as go\n",
    "from plotly.subplots import make_subplots\n",
    "import plotly.express as px\n",
    "\n",
    "colors = px.colors.sequential.Plasma\n",
    "\n",
    "fig = make_subplots(rows=1, cols=1)\n",
    "\n",
    "ed_levels = df['EdLevel'].unique()\n",
    "ed_levels.sort()\n",
    "\n",
    "for i, ed_level in enumerate(ed_levels):\n",
    "    data = df[df['EdLevel'] == ed_level]\n",
    "    color = colors[i % len(colors)]\n",
    "    \n",
    "    fig.add_trace(go.Box(\n",
    "        x=data['EdLevel'], \n",
    "        y=data['PreviousSalary'], \n",
    "        name=ed_level, \n",
    "        marker=dict(color=color)\n",
    "    ), row=1, col=1)\n",
    "\n",
    "fig.update_layout(\n",
    "    title=\"Distribution des salaires par niveau d'éducation\",\n",
    "    xaxis_tickangle=-45\n",
    ")\n",
    "\n",
    "fig.show()"
   ]
  },
  {
   "cell_type": "code",
   "execution_count": null,
   "id": "21715577",
   "metadata": {},
   "outputs": [],
   "source": [
    "import plotly.graph_objects as go\n",
    "from plotly.subplots import make_subplots\n",
    "import plotly.express as px\n",
    "\n",
    "colors = px.colors.sequential.Plasma\n",
    "\n",
    "fig = make_subplots(rows=1, cols=1)\n",
    "\n",
    "mental_health_statuses = df['MentalHealth'].unique()\n",
    "mental_health_statuses.sort()\n",
    "\n",
    "for i, status in enumerate(mental_health_statuses):\n",
    "    data = df[df['MentalHealth'] == status]\n",
    "    color = colors[i % len(colors)]\n",
    "    \n",
    "    fig.add_trace(go.Box(\n",
    "        x=data['MentalHealth'], \n",
    "        y=data['PreviousSalary'], \n",
    "        name=status, \n",
    "        marker=dict(color=color)\n",
    "    ), row=1, col=1)\n",
    "\n",
    "fig.update_layout(title='Distribution des salaires et maladie mentale')\n",
    "\n",
    "fig.show()"
   ]
  },
  {
   "cell_type": "code",
   "execution_count": null,
   "id": "c34bd61b",
   "metadata": {},
   "outputs": [],
   "source": [
    "colors = px.colors.sequential.Plasma\n",
    "\n",
    "fig = make_subplots(rows=1, cols=1)\n",
    "\n",
    "employed_statuses = df['Employed'].unique()\n",
    "employed_statuses.sort()\n",
    "\n",
    "for i, status in enumerate(employed_statuses):\n",
    "    data = df[df['Employed'] == status]\n",
    "    color = colors[i % len(colors)]\n",
    "\n",
    "    fig.add_trace(go.Box(\n",
    "        x=data['Employed'].astype(str), \n",
    "        y=data['PreviousSalary'], \n",
    "        name=str(status), \n",
    "        marker=dict(color=color)\n",
    "    ), row=1, col=1)\n",
    "\n",
    "fig.update_layout(title='Distribution des salaires en fonction du statut salarial')\n",
    "\n",
    "fig.show()"
   ]
  },
  {
   "cell_type": "code",
   "execution_count": null,
   "id": "7ff20ee7",
   "metadata": {},
   "outputs": [],
   "source": [
    "colors = px.colors.sequential.Inferno\n",
    "\n",
    "fig = make_subplots(rows=1, cols=1)\n",
    "\n",
    "main_branches = df['MainBranch'].unique()\n",
    "main_branches.sort()\n",
    "\n",
    "for i, branch in enumerate(main_branches):\n",
    "    data = df[df['MainBranch'] == branch]\n",
    "    color = colors[i % len(colors)]\n",
    "    \n",
    "    fig.add_trace(go.Violin(\n",
    "        x=data['MainBranch'].astype(str), \n",
    "        y=data['PreviousSalary'], \n",
    "        name=str(branch), \n",
    "        line_color=color\n",
    "    ), row=1, col=1)\n",
    "\n",
    "fig.update_layout(\n",
    "    title='Distribution des salaires par branche de travail',\n",
    "    xaxis_tickangle=-45\n",
    ")\n",
    "\n",
    "fig.show()"
   ]
  },
  {
   "cell_type": "markdown",
   "id": "802079ab",
   "metadata": {},
   "source": [
    "On explore par ailleurs notre variable cible pour s'assurer que les 2 catégories ne sont pas numériquement désquilibrées, car cela pourrait nous poser problème pendant la modélisation si tel est le cas. "
   ]
  },
  {
   "cell_type": "code",
   "execution_count": null,
   "id": "06b4ef9b",
   "metadata": {},
   "outputs": [],
   "source": [
    "employed_proportion = df['Employed'].value_counts(normalize=True)\n",
    "\n",
    "fig = px.bar(\n",
    "    x=employed_proportion.index, \n",
    "    y=employed_proportion.values, \n",
    "    labels={'x': 'Employed', 'y': 'Proportion'}, \n",
    "    title='Proportion de personnes Employed'\n",
    ")\n",
    "fig.update_layout(showlegend=False)\n",
    "fig.update_traces(marker_color=px.colors.sequential.Aggrnyl)\n",
    "fig.show()"
   ]
  },
  {
   "cell_type": "markdown",
   "id": "1f6d8ac3",
   "metadata": {},
   "source": [
    "# Identification des biais "
   ]
  },
  {
   "cell_type": "code",
   "execution_count": null,
   "id": "f7f24134",
   "metadata": {},
   "outputs": [],
   "source": [
    "# Préparation des données pour les subplots\n",
    "gender_employed = df.groupby(['Gender', 'Employed']).size().unstack().fillna(0)\n",
    "mental_health_employed = df.groupby(['MentalHealth', 'Employed']).size().unstack().fillna(0)\n",
    "age_employed = df.groupby(['Age', 'Employed']).size().unstack().fillna(0)\n",
    "previous_employed = df.groupby(['Employment', 'Employed']).size().unstack().fillna(0)\n",
    "\n",
    "colors = px.colors.sequential.Plasma\n",
    "\n",
    "# Création des subplots\n",
    "fig = make_subplots(rows=2, cols=2, subplot_titles=(\n",
    "    \"Par genre\",\n",
    "    \"Par maladie mentale\",\n",
    "    \"Par tranche d'âge\",\n",
    "    \"Par emploi précédent\"\n",
    "))\n",
    "\n",
    "# Ajout des bar plots avec la palette de couleurs Plasma\n",
    "for i, employed in enumerate(gender_employed.columns):\n",
    "    fig.add_trace(go.Bar(x=gender_employed.index, y=gender_employed[employed], name=str(employed), marker_color=colors[i + 2]), row=1, col=1)\n",
    "\n",
    "for i, employed in enumerate(mental_health_employed.columns):\n",
    "    fig.add_trace(go.Bar(x=mental_health_employed.index, y=mental_health_employed[employed], name=str(employed), marker_color=colors[i + 2]), row=1, col=2)\n",
    "\n",
    "for i, employed in enumerate(age_employed.columns):\n",
    "    fig.add_trace(go.Bar(x=age_employed.index, y=age_employed[employed], name=str(employed), marker_color=colors[i + 2]), row=2, col=1)\n",
    "\n",
    "for i, employed in enumerate(previous_employed.columns):\n",
    "    fig.add_trace(go.Bar(x=previous_employed.index, y=previous_employed[employed], name=str(employed), marker_color=colors[i + 2]), row=2, col=2)\n",
    "\n",
    "# Mise à jour du layout pour ajouter un titre et ajuster la présentation\n",
    "fig.update_layout(\n",
    "    title_text=\"Comparaison du recrutement en fonction de différentes caractéristiques\",\n",
    "    barmode='stack',\n",
    "    showlegend=False\n",
    ")\n",
    "\n",
    "# Affichage de la figure\n",
    "fig.show()"
   ]
  },
  {
   "cell_type": "markdown",
   "id": "bdaf07b5",
   "metadata": {},
   "source": [
    "Pour avoir une idée plus précise de la présence de biais, il faut comparer les taux d'offres d'emploi en fonction des caractéristiques. En effet, prendre en compte la valeur absolue risquerait de ne pas refléter la présence d'un biais, car certaines variables ont des catégories sur-représentées par rapport à d'autres. "
   ]
  },
  {
   "cell_type": "code",
   "execution_count": null,
   "id": "bb425848",
   "metadata": {},
   "outputs": [],
   "source": [
    "# Calcul des pourcentages par groupe\n",
    "gender_percentage = df.groupby('Gender')['Employed'].mean() * 100\n",
    "mental_health_percentage = df.groupby('MentalHealth')['Employed'].mean() * 100\n",
    "age_percentage = df.groupby('Age')['Employed'].mean() * 100\n",
    "previous_employed_percentage = df.groupby('Employment')['Employed'].mean() * 100\n",
    "\n",
    "colors = px.colors.sequential.Plasma\n",
    "\n",
    "# Création des subplots\n",
    "fig = make_subplots(rows=2, cols=2, subplot_titles=(\n",
    "    \"Par genre\",\n",
    "    \"Par maladie mentale\",\n",
    "    \"Par tranche d'âge\",\n",
    "    \"Par emploi précédent\"\n",
    "))\n",
    "\n",
    "# Ajout des barres pour chaque sous-graphique\n",
    "fig.add_trace(go.Bar(x=gender_percentage.index, y=gender_percentage.values, marker_color=colors[0]), row=1, col=1)\n",
    "fig.add_trace(go.Bar(x=mental_health_percentage.index, y=mental_health_percentage.values, marker_color=colors[1]), row=1, col=2)\n",
    "fig.add_trace(go.Bar(x=age_percentage.index, y=age_percentage.values, marker_color=colors[2]), row=2, col=1)\n",
    "fig.add_trace(go.Bar(x=previous_employed_percentage.index, y=previous_employed_percentage.values, marker_color=colors[3]), row=2, col=2)\n",
    "\n",
    "# Mise à jour du layout pour ajouter un titre général\n",
    "fig.update_layout(\n",
    "    title_text=\"Comparaison du recrutement en fonction de différentes caractéristiques normalisées\",\n",
    "    showlegend=False\n",
    ")\n",
    "\n",
    "# Affichage de la figure\n",
    "fig.show()"
   ]
  },
  {
   "cell_type": "markdown",
   "id": "426666df",
   "metadata": {},
   "source": [
    "#### Biais croisés"
   ]
  },
  {
   "cell_type": "markdown",
   "id": "57155375",
   "metadata": {},
   "source": [
    "Après avoir identifié les différentes sources de biais, nous avons constaté que l'âge et le genre sont les deux variables susceptibles de produire des discriminations. Ainsi, il convient de regarder si ces 2 sources de biais se cumulent : "
   ]
  },
  {
   "cell_type": "code",
   "execution_count": null,
   "id": "64364be1",
   "metadata": {},
   "outputs": [],
   "source": [
    "# Calcul des pourcentages par groupe pour les biais croisés\n",
    "cross_biases = df.groupby(['Gender', 'Age'])['Employed'].mean() * 100"
   ]
  },
  {
   "cell_type": "code",
   "execution_count": null,
   "id": "6a7b1239",
   "metadata": {},
   "outputs": [],
   "source": [
    "cross_biases_df = cross_biases.unstack()\n",
    "\n",
    "colors = px.colors.sequential.Plasma\n",
    "\n",
    "fig = go.Figure()\n",
    "\n",
    "# Ajout des barres empilées pour chaque groupe\n",
    "for i, column in enumerate(cross_biases_df.columns):\n",
    "    fig.add_trace(go.Bar(\n",
    "        x=cross_biases_df.index, \n",
    "        y=cross_biases_df[column], \n",
    "        name=str(column),\n",
    "        marker_color=colors[i % len(colors)]\n",
    "    ))\n",
    "\n",
    "# Mise à jour du layout pour empiler les barres et ajouter un titre\n",
    "fig.update_layout(\n",
    "    barmode='stack',\n",
    "    title_text=\"Biais croisés entre Genre et Âge\",\n",
    "    xaxis_title=\"Genre et Âge\",\n",
    "    yaxis_title=\"Pourcentage employé\",\n",
    "    showlegend=False\n",
    ")\n",
    "\n",
    "# Affichage de la figure\n",
    "fig.show()"
   ]
  },
  {
   "cell_type": "code",
   "execution_count": null,
   "id": "10a7f38e",
   "metadata": {},
   "outputs": [],
   "source": [
    "df['Category'] = df['Gender'] + '_' + df['Age']\n",
    "category_percentage = df.groupby('Category')['Employed'].mean() * 100\n",
    "\n",
    "colors = px.colors.qualitative.Plotly\n",
    "\n",
    "fig = go.Figure()\n",
    "\n",
    "fig.add_trace(go.Bar(\n",
    "    x=category_percentage.index,\n",
    "    y=category_percentage.values,\n",
    "    marker_color=colors[:len(category_percentage)]\n",
    "))\n",
    "\n",
    "fig.update_layout(\n",
    "    title_text=\"Taux d'emploi pour chaque catégorie\",\n",
    "    xaxis_title=\"Catégorie\",\n",
    "    yaxis_title=\"Pourcentage employé\",\n",
    "    showlegend=False\n",
    ")\n",
    "\n",
    "fig.show()"
   ]
  },
  {
   "cell_type": "markdown",
   "id": "442a4e50",
   "metadata": {},
   "source": [
    "# Modélisation "
   ]
  },
  {
   "cell_type": "markdown",
   "id": "bd01c7e0",
   "metadata": {},
   "source": [
    "#### Arbre de décision "
   ]
  },
  {
   "cell_type": "code",
   "execution_count": null,
   "id": "92341b87",
   "metadata": {},
   "outputs": [],
   "source": [
    "X = df.drop(columns='Employed')\n",
    "y = df.Employed"
   ]
  },
  {
   "cell_type": "code",
   "execution_count": null,
   "id": "fcb968fa",
   "metadata": {},
   "outputs": [],
   "source": [
    "technologies = df['HaveWorkedWith']\n",
    "\n",
    "technologies_encoded = technologies.str.get_dummies(';')\n",
    "\n",
    "df = pd.concat([df, technologies_encoded], axis=1)"
   ]
  },
  {
   "cell_type": "code",
   "execution_count": null,
   "id": "cfcc0376",
   "metadata": {},
   "outputs": [],
   "source": [
    "target = \"Employed\"\n",
    "\n",
    "X_train, X_test, y_train, y_test = train_test_split(df.drop(columns=target), df[target], test_size=0.2, random_state=42)"
   ]
  },
  {
   "cell_type": "code",
   "execution_count": null,
   "id": "7c999798",
   "metadata": {},
   "outputs": [],
   "source": [
    "protected = (pd.Series(np.where(X_test[\"Gender\"] == \"Woman\", 'f', 'hnb'), index = X_test.index) + '_' + X_test.Age)\n",
    "\n",
    "protected_train = (pd.Series(np.where(X_train[\"Gender\"] == \"Woman\", 'f', 'hnb').astype(str), index=X_train.index) + '_' + X_train.Age)\n",
    "\n",
    "privileged = 'hnb_<35'"
   ]
  },
  {
   "cell_type": "code",
   "execution_count": null,
   "id": "15b1448f",
   "metadata": {},
   "outputs": [],
   "source": [
    "numerical_features = make_column_selector(dtype_include=np.number)\n",
    "categorical_features = make_column_selector(dtype_exclude=np.number)"
   ]
  },
  {
   "cell_type": "code",
   "execution_count": null,
   "id": "1ac1cfa2",
   "metadata": {},
   "outputs": [],
   "source": [
    "categorical_transformer = Pipeline(steps=[\n",
    "    ('onehot', OneHotEncoder(handle_unknown='ignore'))\n",
    "])"
   ]
  },
  {
   "cell_type": "code",
   "execution_count": null,
   "id": "618a9a03",
   "metadata": {},
   "outputs": [],
   "source": [
    "preprocessor = ColumnTransformer(transformers=[\n",
    "        ('cat', categorical_transformer, categorical_features),\n",
    "        ('num', 'passthrough', numerical_features)\n",
    "])"
   ]
  },
  {
   "cell_type": "code",
   "execution_count": null,
   "id": "0558fba9",
   "metadata": {},
   "outputs": [],
   "source": [
    "model = Pipeline(steps=[\n",
    "    ('preprocessor', preprocessor),\n",
    "    ('classifier', DecisionTreeClassifier(max_depth=7, random_state=123))\n",
    "])\n"
   ]
  },
  {
   "cell_type": "code",
   "execution_count": null,
   "id": "4e2bb951",
   "metadata": {},
   "outputs": [],
   "source": [
    "model.fit(X_train, y_train)"
   ]
  },
  {
   "cell_type": "code",
   "execution_count": null,
   "id": "0b10fac9",
   "metadata": {},
   "outputs": [],
   "source": [
    "y_pred = model.predict(X_test)\n",
    "\n",
    "#Création d'un objet explainer\n",
    "explainer = dx.Explainer(model, X_test, y_test)"
   ]
  },
  {
   "cell_type": "code",
   "execution_count": null,
   "id": "10baabe1",
   "metadata": {},
   "outputs": [],
   "source": [
    "#Obtenir les résultats sous forme d'un tableau récapitulatif avec les métriques de performance\n",
    "accuracy = accuracy_score(y_test, y_pred)\n",
    "precision = precision_score(y_test, y_pred)\n",
    "recall = recall_score(y_test, y_pred)\n",
    "f1 = f1_score(y_test, y_pred)\n",
    "roc_auc = roc_auc_score(y_test, model.predict_proba(X_test)[:, 1])\n",
    "\n",
    "summary_table = pd.DataFrame({\n",
    "    'Accuracy': [accuracy],\n",
    "    'Precision': [precision],\n",
    "    'Recall': [recall],\n",
    "    'F1 Score': [f1],\n",
    "    'ROC AUC': [roc_auc]\n",
    "})\n",
    "\n",
    "print(\"Summary Table:\")\n",
    "print(summary_table)"
   ]
  },
  {
   "cell_type": "code",
   "execution_count": null,
   "id": "8491ee88",
   "metadata": {},
   "outputs": [],
   "source": [
    "# Supposons que y_test et y_pred sont déjà définis et que vous avez la matrice de confusion\n",
    "conf_matrix = confusion_matrix(y_test, y_pred)\n",
    "\n",
    "# Créer le graphique avec Plotly\n",
    "fig = ff.create_annotated_heatmap(conf_matrix, x=['Not Employed', 'Employed'], y=['Not Employed', 'Employed'], colorscale='Blues', showscale=True)\n",
    "fig.update_layout(title_text='Confusion Matrix', xaxis_title='Predictions', yaxis_title='True Labels')\n",
    "fig.show()"
   ]
  },
  {
   "cell_type": "markdown",
   "id": "3468fadf",
   "metadata": {},
   "source": [
    "#### Fairness metrics "
   ]
  },
  {
   "cell_type": "code",
   "execution_count": null,
   "id": "35c0fa73",
   "metadata": {},
   "outputs": [],
   "source": [
    "fairness_object = explainer.model_fairness(protected=protected, privileged=privileged)\n",
    "\n",
    "fairness_result = fairness_object.fairness_check() #valeur du seuil epsilon par défaut et égale à 0.8\n",
    "\n",
    "print(fairness_result)"
   ]
  },
  {
   "cell_type": "code",
   "execution_count": null,
   "id": "6ff12350",
   "metadata": {},
   "outputs": [],
   "source": [
    "fairness_object.result"
   ]
  },
  {
   "cell_type": "code",
   "execution_count": null,
   "id": "be482fd5",
   "metadata": {},
   "outputs": [],
   "source": [
    "fairness_object.metric_scores"
   ]
  },
  {
   "cell_type": "markdown",
   "id": "8ecf32ed",
   "metadata": {},
   "source": [
    "## Bias detection Plots "
   ]
  },
  {
   "cell_type": "markdown",
   "id": "11f37900",
   "metadata": {},
   "source": [
    "### Fairness Check plot"
   ]
  },
  {
   "cell_type": "code",
   "execution_count": null,
   "id": "849b88ce",
   "metadata": {},
   "outputs": [],
   "source": [
    "fairness_object.plot()"
   ]
  },
  {
   "cell_type": "code",
   "execution_count": null,
   "id": "0893af6b",
   "metadata": {},
   "outputs": [],
   "source": [
    "fairness_object.plot(type = 'metric_scores')"
   ]
  },
  {
   "cell_type": "markdown",
   "id": "fa4af2f7",
   "metadata": {},
   "source": [
    "### Autres modèles "
   ]
  },
  {
   "cell_type": "markdown",
   "id": "6c4f38ee",
   "metadata": {},
   "source": [
    "#### Random Forest "
   ]
  },
  {
   "cell_type": "code",
   "execution_count": null,
   "id": "61285231",
   "metadata": {},
   "outputs": [],
   "source": [
    "from sklearn.ensemble import RandomForestClassifier\n",
    "from sklearn.linear_model import LogisticRegression\n",
    "from sklearn.preprocessing import StandardScaler"
   ]
  },
  {
   "cell_type": "code",
   "execution_count": null,
   "id": "218f75d5",
   "metadata": {},
   "outputs": [],
   "source": [
    "numeric_features = make_column_selector(dtype_include=np.number)"
   ]
  },
  {
   "cell_type": "code",
   "execution_count": null,
   "id": "831e6e74",
   "metadata": {},
   "outputs": [],
   "source": [
    "numeric_transformer = Pipeline(steps=[\n",
    "    ('scaler', StandardScaler())])"
   ]
  },
  {
   "cell_type": "code",
   "execution_count": null,
   "id": "d7773eea",
   "metadata": {},
   "outputs": [],
   "source": [
    "categorical_transformer = Pipeline(steps=[\n",
    "    ('onehot', OneHotEncoder(handle_unknown='ignore'))])"
   ]
  },
  {
   "cell_type": "code",
   "execution_count": null,
   "id": "2d2883e7",
   "metadata": {},
   "outputs": [],
   "source": [
    "preprocessor = ColumnTransformer(\n",
    "    transformers=[\n",
    "        ('cat', categorical_transformer, categorical_features),\n",
    "        ('num', numeric_transformer, numeric_features)])\n"
   ]
  },
  {
   "cell_type": "code",
   "execution_count": null,
   "id": "0da2c1b9",
   "metadata": {},
   "outputs": [],
   "source": [
    "model_rf = Pipeline(steps=[('preprocessor', preprocessor),\n",
    "                      ('classifier', RandomForestClassifier(random_state=123, max_depth=5))])"
   ]
  },
  {
   "cell_type": "code",
   "execution_count": null,
   "id": "47e66e65",
   "metadata": {},
   "outputs": [],
   "source": [
    "model_rf.fit(X_train, y_train)"
   ]
  },
  {
   "cell_type": "code",
   "execution_count": null,
   "id": "3245681f",
   "metadata": {},
   "outputs": [],
   "source": [
    "# Faire des prédictions sur l'ensemble de test\n",
    "y_pred_rf = model_rf.predict(X_test)\n",
    "\n",
    "# Créer un objet Explainer\n",
    "explainer_rf = dx.Explainer(model_rf, X_test, y_test, verbose = False)\n",
    "\n",
    "# Obtenez les résultats sous forme d'un tableau récapitulatif avec les métriques de performance\n",
    "accuracy_rf = accuracy_score(y_test, y_pred_rf)\n",
    "classification_rep_rf = classification_report(y_test, y_pred_rf)\n",
    "\n",
    "print(\"Decision Tree Model:\")\n",
    "print(\"Accuracy:\", accuracy_rf)\n",
    "print(\"\\nClassification Report:\\n\", classification_rep_rf)"
   ]
  },
  {
   "cell_type": "code",
   "execution_count": null,
   "id": "f7c484f8",
   "metadata": {},
   "outputs": [],
   "source": [
    "conf_matrix_rf = confusion_matrix(y_test, y_pred_rf)\n",
    "\n",
    "\n",
    "fig = ff.create_annotated_heatmap(conf_matrix_rf, x=['Not Employed', 'Employed'], y=['Not Employed', 'Employed'], colorscale='Blues', showscale=False)\n",
    "fig.update_layout(title_text='Decision Tree Confusion Matrix', xaxis_title='Predictions', yaxis_title='True Labels')\n",
    "fig.show()"
   ]
  },
  {
   "cell_type": "code",
   "execution_count": null,
   "id": "d080002d",
   "metadata": {},
   "outputs": [],
   "source": [
    "fairness_object_rf = explainer_rf.model_fairness(protected, privileged)"
   ]
  },
  {
   "cell_type": "markdown",
   "id": "a6b1f461",
   "metadata": {},
   "source": [
    "#### Regression logistique "
   ]
  },
  {
   "cell_type": "code",
   "execution_count": null,
   "id": "8dc0c593",
   "metadata": {},
   "outputs": [],
   "source": [
    "model_logit = Pipeline(steps=[('preprocessor', preprocessor),\n",
    "                      ('classifier', LogisticRegression(random_state=123))])"
   ]
  },
  {
   "cell_type": "code",
   "execution_count": null,
   "id": "095b8020",
   "metadata": {},
   "outputs": [],
   "source": [
    "model_logit.fit(X_train, y_train)"
   ]
  },
  {
   "cell_type": "code",
   "execution_count": null,
   "id": "769d73ef",
   "metadata": {},
   "outputs": [],
   "source": [
    "# Faire des prédictions sur l'ensemble de test\n",
    "y_pred_logit = model_logit.predict(X_test)\n",
    "\n",
    "# Créer un objet Explainer\n",
    "explainer_logit = dx.Explainer(model_logit, X_test, y_test, verbose = False)\n",
    "\n",
    "# Obtenez les résultats sous forme d'un tableau récapitulatif avec les métriques de performance\n",
    "accuracy_logit = accuracy_score(y_test, y_pred_logit)\n",
    "classification_rep_logit = classification_report(y_test, y_pred_logit)\n",
    "\n",
    "print(\"Logistic Regression Model:\")\n",
    "print(\"Accuracy:\", accuracy_logit)\n",
    "print(\"\\nClassification Report:\\n\", classification_rep_logit)"
   ]
  },
  {
   "cell_type": "code",
   "execution_count": null,
   "id": "551cef4f",
   "metadata": {},
   "outputs": [],
   "source": [
    "fairness_object_logit = explainer_logit.model_fairness(protected, privileged)"
   ]
  },
  {
   "cell_type": "code",
   "execution_count": null,
   "id": "b6854aa3",
   "metadata": {},
   "outputs": [],
   "source": [
    "conf_matrix_logit = confusion_matrix(y_test, y_pred_logit)\n",
    "\n",
    "fig = ff.create_annotated_heatmap(conf_matrix_logit, x=['Not Employed', 'Employed'], y=['Not Employed', 'Employed'], colorscale='Blues', showscale=False)\n",
    "fig.update_layout(title_text='Logistic Regression Confusion Matrix', xaxis_title='Predictions', yaxis_title='True Labels')\n",
    "fig.show()"
   ]
  },
  {
   "cell_type": "markdown",
   "id": "5738f14b",
   "metadata": {},
   "source": [
    "### Comparaison des modèles "
   ]
  },
  {
   "cell_type": "code",
   "execution_count": null,
   "id": "12391592",
   "metadata": {},
   "outputs": [],
   "source": [
    "fairness_object.plot(objects=[fairness_object_logit, fairness_object_rf])"
   ]
  },
  {
   "cell_type": "code",
   "execution_count": null,
   "id": "76d70428",
   "metadata": {},
   "outputs": [],
   "source": [
    "fairness_object.plot(objects=[fairness_object_logit, fairness_object_rf], type = \"metric_scores\")"
   ]
  },
  {
   "cell_type": "markdown",
   "id": "0a913dda",
   "metadata": {},
   "source": [
    "## Parity loss plots "
   ]
  },
  {
   "cell_type": "code",
   "execution_count": null,
   "id": "68b1e67c",
   "metadata": {},
   "outputs": [],
   "source": [
    "fairness_object.parity_loss"
   ]
  },
  {
   "cell_type": "markdown",
   "id": "732884ac",
   "metadata": {},
   "source": [
    "#### Radar plot "
   ]
  },
  {
   "cell_type": "code",
   "execution_count": null,
   "id": "1e526262",
   "metadata": {},
   "outputs": [],
   "source": [
    "fairness_object.plot(objects=[fairness_object_logit, fairness_object_rf], type = \"radar\")"
   ]
  },
  {
   "cell_type": "markdown",
   "id": "f97c30ee",
   "metadata": {},
   "source": [
    "#### Heatmap "
   ]
  },
  {
   "cell_type": "code",
   "execution_count": null,
   "id": "de4464ee",
   "metadata": {},
   "outputs": [],
   "source": [
    "fairness_object.plot(objects=[fairness_object_logit, fairness_object_rf], type = \"heatmap\")"
   ]
  },
  {
   "cell_type": "markdown",
   "id": "27447993",
   "metadata": {},
   "source": [
    "#### Stacked "
   ]
  },
  {
   "cell_type": "code",
   "execution_count": null,
   "id": "5ae35825",
   "metadata": {},
   "outputs": [],
   "source": [
    "fairness_object.plot(objects=[fairness_object_logit, fairness_object_rf], type = \"stacked\")"
   ]
  },
  {
   "cell_type": "code",
   "execution_count": null,
   "id": "17f6fd4c",
   "metadata": {},
   "outputs": [],
   "source": [
    "fairness_object.plot(objects=[fairness_object_logit, fairness_object_rf], type = \"performance_and_fairness\")"
   ]
  },
  {
   "cell_type": "markdown",
   "id": "ca5def89",
   "metadata": {},
   "source": [
    "#### Ceteris Paribus cut-off"
   ]
  },
  {
   "cell_type": "code",
   "execution_count": null,
   "id": "52aee980",
   "metadata": {
    "scrolled": true
   },
   "outputs": [],
   "source": [
    "fairness_object.plot(objects=[fairness_object_rf], #for better visibility only one additional model\n",
    "             type = \"ceteris_paribus_cutoff\", \n",
    "             subgroup = 'hnb_<35') "
   ]
  },
  {
   "cell_type": "markdown",
   "id": "421ef5dc",
   "metadata": {},
   "source": [
    "# Correction des biais "
   ]
  },
  {
   "cell_type": "markdown",
   "id": "5038fcfd",
   "metadata": {},
   "source": [
    "#### Ce que permet de faire Dalex : \n",
    "\n",
    "There are few possible solutions to overcome bias affecting classification models. In dalex, there are 3 mitigation techniques:\n",
    "1. resample - returns indices that may be used to pick relevant samples of data\n",
    "2. reweight - returns sample (case) weights for model training\n",
    "3. roc-pivot - returns the Explainer with changed y_hat"
   ]
  },
  {
   "cell_type": "markdown",
   "id": "23177630",
   "metadata": {},
   "source": [
    "### Preprocessing"
   ]
  },
  {
   "cell_type": "markdown",
   "id": "7407af86",
   "metadata": {},
   "source": [
    "#### Supprimer les variables identifiées comme source de biais "
   ]
  },
  {
   "cell_type": "code",
   "execution_count": null,
   "id": "cc265ba5",
   "metadata": {},
   "outputs": [],
   "source": []
  },
  {
   "cell_type": "markdown",
   "id": "d2a8a989",
   "metadata": {},
   "source": [
    "#### Resampling "
   ]
  },
  {
   "cell_type": "code",
   "execution_count": null,
   "id": "d396e5bb",
   "metadata": {},
   "outputs": [],
   "source": [
    "# copying\n",
    "model_u = copy(model)\n",
    "model_p = copy(model)"
   ]
  },
  {
   "cell_type": "code",
   "execution_count": null,
   "id": "955ab061",
   "metadata": {},
   "outputs": [],
   "source": [
    "# resample\n",
    "indices_uniform = resample(protected, y_test, verbose = False)\n",
    "indices_preferential = resample(protected,\n",
    "                                y_test, \n",
    "                                type = 'preferential', \n",
    "                                probs = explainer.y_hat, \n",
    "                                verbose = False)\n",
    "\n",
    "\n",
    "model_u.fit(X.iloc[indices_uniform, :], y[indices_uniform])\n",
    "model_p.fit(X.iloc[indices_preferential, :], y[indices_preferential])"
   ]
  },
  {
   "cell_type": "code",
   "execution_count": null,
   "id": "574d66f8",
   "metadata": {},
   "outputs": [],
   "source": [
    "explainer_u = dx.Explainer(model_u, X_test, y_test, verbose = False)\n",
    "explainer_p = dx.Explainer(model_p, X_test, y_test, verbose = False)\n",
    "\n",
    "\n",
    "fobject_base = explainer.model_fairness(protected, privileged, label='base')\n",
    "fobject_unif = explainer_u.model_fairness(protected, privileged, label='res_unif')\n",
    "fobject_pref = explainer_p.model_fairness(protected, privileged, label='res_pref')\n",
    "\n",
    "\n",
    "# plotting\n",
    "fobject_base.plot([fobject_unif, fobject_pref])"
   ]
  },
  {
   "cell_type": "markdown",
   "id": "4aa514e1",
   "metadata": {},
   "source": [
    "#### Performance des modèles "
   ]
  },
  {
   "cell_type": "code",
   "execution_count": null,
   "id": "fc979eb2",
   "metadata": {},
   "outputs": [],
   "source": [
    "explainer_u.model_performance().result"
   ]
  },
  {
   "cell_type": "code",
   "execution_count": null,
   "id": "9859236f",
   "metadata": {},
   "outputs": [],
   "source": [
    "explainer_p.model_performance().result"
   ]
  },
  {
   "cell_type": "code",
   "execution_count": null,
   "id": "5bbb3e64",
   "metadata": {},
   "outputs": [],
   "source": [
    "fobject_unif.fairness_check()"
   ]
  },
  {
   "cell_type": "code",
   "execution_count": null,
   "id": "a1bb498a",
   "metadata": {},
   "outputs": [],
   "source": [
    "fobject_pref.fairness_check()"
   ]
  },
  {
   "cell_type": "markdown",
   "id": "99db768d",
   "metadata": {},
   "source": [
    "### Inprocessing ###"
   ]
  },
  {
   "cell_type": "markdown",
   "id": "6bfdc0dc",
   "metadata": {},
   "source": [
    "#### Reweighing"
   ]
  },
  {
   "cell_type": "code",
   "execution_count": null,
   "id": "11aad1f6",
   "metadata": {},
   "outputs": [],
   "source": [
    "weights = reweight(protected, y_test, verbose = False)"
   ]
  },
  {
   "cell_type": "code",
   "execution_count": null,
   "id": "a4a71e9d",
   "metadata": {},
   "outputs": [],
   "source": [
    "model_weighted = Pipeline(steps=[('preprocessor', preprocessor),\n",
    "                      ('classifier', DecisionTreeClassifier(random_state=123))])\n"
   ]
  },
  {
   "cell_type": "code",
   "execution_count": null,
   "id": "27b1d34e",
   "metadata": {},
   "outputs": [],
   "source": [
    "kwargs = {model_weighted.steps[-1][0] + '__sample_weight': weights}"
   ]
  },
  {
   "cell_type": "code",
   "execution_count": null,
   "id": "6ba91b61",
   "metadata": {},
   "outputs": [],
   "source": [
    "model_weighted.fit(X_test,y_test, **kwargs)"
   ]
  },
  {
   "cell_type": "code",
   "execution_count": null,
   "id": "8bf13b0d",
   "metadata": {},
   "outputs": [],
   "source": [
    "explainer_weighted = dx.Explainer(model_weighted, X_test, y_test, verbose = False)"
   ]
  },
  {
   "cell_type": "code",
   "execution_count": null,
   "id": "1a15a48a",
   "metadata": {},
   "outputs": [],
   "source": [
    "fobject_weighted = explainer_weighted.model_fairness(protected, privileged, label='weighted')"
   ]
  },
  {
   "cell_type": "code",
   "execution_count": null,
   "id": "099d2153",
   "metadata": {},
   "outputs": [],
   "source": [
    "fobject_weighted.fairness_check()"
   ]
  },
  {
   "cell_type": "code",
   "execution_count": null,
   "id": "eafee122",
   "metadata": {},
   "outputs": [],
   "source": [
    "fobject_base.plot([fobject_unif, fobject_pref, fobject_weighted])"
   ]
  },
  {
   "cell_type": "markdown",
   "id": "05ddc5c5",
   "metadata": {},
   "source": [
    "### Postprocessing ###"
   ]
  },
  {
   "cell_type": "markdown",
   "id": "1ba35b02",
   "metadata": {},
   "source": [
    "#### ROC-pivot"
   ]
  },
  {
   "cell_type": "code",
   "execution_count": null,
   "id": "105873c4",
   "metadata": {},
   "outputs": [],
   "source": [
    "explainer_copy = copy(explainer)\n",
    "roc_pivot_results = roc_pivot(explainer_copy, protected, privileged, theta=0.05, verbose=False)"
   ]
  },
  {
   "cell_type": "code",
   "execution_count": null,
   "id": "47876e8e",
   "metadata": {},
   "outputs": [],
   "source": [
    "fobject_roc = explainer_copy.model_fairness(protected, privileged, label='roc')"
   ]
  },
  {
   "cell_type": "code",
   "execution_count": null,
   "id": "909fae08",
   "metadata": {
    "scrolled": true
   },
   "outputs": [],
   "source": [
    "fobject_roc.fairness_check()"
   ]
  },
  {
   "cell_type": "code",
   "execution_count": null,
   "id": "1e72fdbb",
   "metadata": {},
   "outputs": [],
   "source": [
    "fobject_base.plot([fobject_unif, fobject_pref, fobject_roc])"
   ]
  },
  {
   "cell_type": "code",
   "execution_count": null,
   "id": "639955aa",
   "metadata": {},
   "outputs": [],
   "source": []
  }
 ],
 "metadata": {
  "kernelspec": {
   "display_name": "Python 3 (ipykernel)",
   "language": "python",
   "name": "python3"
  },
  "language_info": {
   "codemirror_mode": {
    "name": "ipython",
    "version": 3
   },
   "file_extension": ".py",
   "mimetype": "text/x-python",
   "name": "python",
   "nbconvert_exporter": "python",
   "pygments_lexer": "ipython3",
   "version": "3.11.5"
  }
 },
 "nbformat": 4,
 "nbformat_minor": 5
}
